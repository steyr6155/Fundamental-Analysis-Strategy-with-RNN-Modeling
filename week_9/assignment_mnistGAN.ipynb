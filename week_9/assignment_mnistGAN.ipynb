{
  "cells": [
    {
      "cell_type": "markdown",
      "metadata": {
        "id": "9JCiZj8OVZOA",
        "papermill": {
          "duration": 0.010897,
          "end_time": "2020-08-17T09:55:39.401285",
          "exception": false,
          "start_time": "2020-08-17T09:55:39.390388",
          "status": "completed"
        },
        "tags": []
      },
      "source": [
        "# Asignemnt: MNIST GAN\n",
        "## Load the Data\n",
        "\n",
        "We begin by downloading and importing the data as a PyTorch dataset using the `MNIST` helper class from `torchvision.datasets`."
      ]
    },
    {
      "cell_type": "code",
      "execution_count": null,
      "metadata": {
        "colab": {
          "base_uri": "https://localhost:8080/"
        },
        "execution": {
          "iopub.execute_input": "2020-08-17T09:55:39.430976Z",
          "iopub.status.busy": "2020-08-17T09:55:39.430373Z",
          "iopub.status.idle": "2020-08-17T09:55:42.664332Z",
          "shell.execute_reply": "2020-08-17T09:55:42.665107Z"
        },
        "id": "UyBhQNYFVZOB",
        "outputId": "96e79ffb-50dd-41c3-9418-ff001747db37",
        "papermill": {
          "duration": 3.252756,
          "end_time": "2020-08-17T09:55:42.665363",
          "exception": false,
          "start_time": "2020-08-17T09:55:39.412607",
          "status": "completed"
        },
        "tags": []
      },
      "outputs": [
        {
          "output_type": "stream",
          "name": "stderr",
          "text": [
            "100%|██████████| 9.91M/9.91M [00:00<00:00, 17.9MB/s]\n",
            "100%|██████████| 28.9k/28.9k [00:00<00:00, 483kB/s]\n",
            "100%|██████████| 1.65M/1.65M [00:00<00:00, 4.50MB/s]\n",
            "100%|██████████| 4.54k/4.54k [00:00<00:00, 6.12MB/s]\n"
          ]
        }
      ],
      "source": [
        "import torch\n",
        "import torchvision\n",
        "from torchvision.transforms import ToTensor, Normalize, Compose\n",
        "from torchvision.datasets import MNIST\n",
        "\n",
        "mnist = MNIST(root='data',\n",
        "              train=True,\n",
        "              download=True,\n",
        "              transform=Compose([ToTensor(), Normalize(mean=(0.5,), std=(0.5,))]))"
      ]
    },
    {
      "cell_type": "markdown",
      "metadata": {
        "id": "8KZFYl-KVZOD",
        "papermill": {
          "duration": 0.012072,
          "end_time": "2020-08-17T09:55:42.690789",
          "exception": false,
          "start_time": "2020-08-17T09:55:42.678717",
          "status": "completed"
        },
        "tags": []
      },
      "source": [
        "Note that we are are transforming the pixel values from the range `[0, 1]` to the range `[-1, 1]`. Makes generation easier..."
      ]
    },
    {
      "cell_type": "code",
      "execution_count": null,
      "metadata": {
        "colab": {
          "base_uri": "https://localhost:8080/"
        },
        "execution": {
          "iopub.execute_input": "2020-08-17T09:55:42.725122Z",
          "iopub.status.busy": "2020-08-17T09:55:42.724389Z",
          "iopub.status.idle": "2020-08-17T09:55:42.788396Z",
          "shell.execute_reply": "2020-08-17T09:55:42.782500Z"
        },
        "id": "ZFBOkKZkVZOD",
        "outputId": "7d72a5f7-d31e-4b98-a27a-80415cb6d8ab",
        "papermill": {
          "duration": 0.085619,
          "end_time": "2020-08-17T09:55:42.788514",
          "exception": false,
          "start_time": "2020-08-17T09:55:42.702895",
          "status": "completed"
        },
        "tags": []
      },
      "outputs": [
        {
          "output_type": "stream",
          "name": "stdout",
          "text": [
            "Label:  5\n",
            "tensor([[[-0.9922,  0.2078,  0.9843, -0.2941, -1.0000],\n",
            "         [-1.0000,  0.0902,  0.9843,  0.4902, -0.9843],\n",
            "         [-1.0000, -0.9137,  0.4902,  0.9843, -0.4510],\n",
            "         [-1.0000, -1.0000, -0.7255,  0.8902,  0.7647],\n",
            "         [-1.0000, -1.0000, -1.0000, -0.3647,  0.8824]]])\n"
          ]
        },
        {
          "output_type": "execute_result",
          "data": {
            "text/plain": [
              "(tensor(-1.), tensor(1.))"
            ]
          },
          "metadata": {},
          "execution_count": 2
        }
      ],
      "source": [
        "img, label = mnist[0]\n",
        "print('Label: ', label)\n",
        "print(img[:,10:15,10:15])\n",
        "torch.min(img), torch.max(img)"
      ]
    },
    {
      "cell_type": "markdown",
      "metadata": {
        "id": "3xOZQHezVZOE",
        "papermill": {
          "duration": 0.013308,
          "end_time": "2020-08-17T09:55:42.814142",
          "exception": false,
          "start_time": "2020-08-17T09:55:42.800834",
          "status": "completed"
        },
        "tags": []
      },
      "source": [
        "As expected, the pixel values range from -1 to 1. Let's define a helper to denormalize and view the images. This function will also be useful for viewing the generated images."
      ]
    },
    {
      "cell_type": "code",
      "execution_count": null,
      "metadata": {
        "execution": {
          "iopub.execute_input": "2020-08-17T09:55:42.849271Z",
          "iopub.status.busy": "2020-08-17T09:55:42.848521Z",
          "iopub.status.idle": "2020-08-17T09:55:42.851013Z",
          "shell.execute_reply": "2020-08-17T09:55:42.851527Z"
        },
        "id": "GiM08EQuVZOE",
        "papermill": {
          "duration": 0.019789,
          "end_time": "2020-08-17T09:55:42.851649",
          "exception": false,
          "start_time": "2020-08-17T09:55:42.831860",
          "status": "completed"
        },
        "tags": []
      },
      "outputs": [],
      "source": [
        "def denorm(x):\n",
        "    out = (x + 1) / 2\n",
        "    return out.clamp(0, 1)"
      ]
    },
    {
      "cell_type": "code",
      "execution_count": null,
      "metadata": {
        "colab": {
          "base_uri": "https://localhost:8080/",
          "height": 447
        },
        "execution": {
          "iopub.execute_input": "2020-08-17T09:55:42.883860Z",
          "iopub.status.busy": "2020-08-17T09:55:42.882727Z",
          "iopub.status.idle": "2020-08-17T09:55:43.083285Z",
          "shell.execute_reply": "2020-08-17T09:55:43.083826Z"
        },
        "id": "q8z7O5ZLVZOF",
        "outputId": "c726b1a8-cdb4-4ec2-bd76-a91549a60e9f",
        "papermill": {
          "duration": 0.220307,
          "end_time": "2020-08-17T09:55:43.083967",
          "exception": false,
          "start_time": "2020-08-17T09:55:42.863660",
          "status": "completed"
        },
        "tags": []
      },
      "outputs": [
        {
          "output_type": "stream",
          "name": "stdout",
          "text": [
            "Label: 5\n"
          ]
        },
        {
          "output_type": "display_data",
          "data": {
            "text/plain": [
              "<Figure size 640x480 with 1 Axes>"
            ],
            "image/png": "[encoded data removed]"
          },
          "metadata": {}
        }
      ],
      "source": [
        "import matplotlib.pyplot as plt\n",
        "%matplotlib inline\n",
        "\n",
        "img_norm = denorm(img)\n",
        "plt.imshow(img_norm[0], cmap='gray')\n",
        "print('Label:', label)"
      ]
    },
    {
      "cell_type": "markdown",
      "metadata": {
        "id": "YpT-vul1VZOF",
        "papermill": {
          "duration": 0.013492,
          "end_time": "2020-08-17T09:55:43.111291",
          "exception": false,
          "start_time": "2020-08-17T09:55:43.097799",
          "status": "completed"
        },
        "tags": []
      },
      "source": [
        "Finally, let's create a dataloader to load the images in batches."
      ]
    },
    {
      "cell_type": "code",
      "execution_count": null,
      "metadata": {
        "execution": {
          "iopub.execute_input": "2020-08-17T09:55:43.143065Z",
          "iopub.status.busy": "2020-08-17T09:55:43.142277Z",
          "iopub.status.idle": "2020-08-17T09:55:43.145197Z",
          "shell.execute_reply": "2020-08-17T09:55:43.145792Z"
        },
        "id": "LCe0U6iaVZOG",
        "papermill": {
          "duration": 0.021138,
          "end_time": "2020-08-17T09:55:43.145917",
          "exception": false,
          "start_time": "2020-08-17T09:55:43.124779",
          "status": "completed"
        },
        "tags": []
      },
      "outputs": [],
      "source": [
        "from torch.utils.data import DataLoader\n",
        "\n",
        "batch_size = 100\n",
        "data_loader = DataLoader(mnist, batch_size, shuffle=True)"
      ]
    },
    {
      "cell_type": "code",
      "execution_count": null,
      "metadata": {
        "colab": {
          "base_uri": "https://localhost:8080/",
          "height": 552
        },
        "execution": {
          "iopub.execute_input": "2020-08-17T09:55:43.178132Z",
          "iopub.status.busy": "2020-08-17T09:55:43.177398Z",
          "iopub.status.idle": "2020-08-17T09:55:43.350810Z",
          "shell.execute_reply": "2020-08-17T09:55:43.350272Z"
        },
        "id": "hpsIHp7ZVZOG",
        "outputId": "709ff058-f11a-4881-d049-6608d5b6f42f",
        "papermill": {
          "duration": 0.192473,
          "end_time": "2020-08-17T09:55:43.350929",
          "exception": false,
          "start_time": "2020-08-17T09:55:43.158456",
          "status": "completed"
        },
        "tags": []
      },
      "outputs": [
        {
          "output_type": "stream",
          "name": "stdout",
          "text": [
            "first batch\n",
            "torch.Size([100, 1, 28, 28])\n",
            "tensor([6, 9, 9, 4, 2, 6, 2, 6, 6, 1, 6, 5, 6, 1, 1, 3, 2, 3, 6, 5, 2, 6, 1, 7,\n",
            "        3, 6, 2, 5, 7, 7, 7, 2, 4, 3, 5, 1, 7, 1, 3, 5, 0, 7, 2, 7, 1, 6, 8, 0,\n",
            "        4, 8, 7, 3, 9, 2, 3, 2, 1, 4, 0, 4, 7, 1, 8, 3, 7, 2, 9, 4, 9, 3, 0, 9,\n",
            "        0, 0, 1, 7, 9, 1, 4, 8, 3, 6, 1, 4, 8, 7, 7, 7, 2, 0, 3, 4, 1, 5, 1, 2,\n",
            "        1, 3, 9, 9])\n"
          ]
        },
        {
          "output_type": "display_data",
          "data": {
            "text/plain": [
              "<Figure size 640x480 with 1 Axes>"
            ],
            "image/png": "[encoded data removed]"
          },
          "metadata": {}
        }
      ],
      "source": [
        "for img_batch, label_batch in data_loader:\n",
        "    print('first batch')\n",
        "    print(img_batch.shape)\n",
        "    plt.imshow(img_batch[0][0], cmap='gray')\n",
        "    print(label_batch)\n",
        "    break"
      ]
    },
    {
      "cell_type": "code",
      "execution_count": null,
      "metadata": {
        "execution": {
          "iopub.execute_input": "2020-08-17T09:55:43.740949Z",
          "iopub.status.busy": "2020-08-17T09:55:43.739949Z",
          "iopub.status.idle": "2020-08-17T09:55:43.742791Z",
          "shell.execute_reply": "2020-08-17T09:55:43.742276Z"
        },
        "id": "gGVg8kZ8VZOH",
        "papermill": {
          "duration": 0.352355,
          "end_time": "2020-08-17T09:55:43.742903",
          "exception": false,
          "start_time": "2020-08-17T09:55:43.390548",
          "status": "completed"
        },
        "tags": []
      },
      "outputs": [],
      "source": [
        "# Device configuration\n",
        "device = torch.device('cuda' if torch.cuda.is_available() else 'cpu')"
      ]
    },
    {
      "cell_type": "code",
      "execution_count": null,
      "metadata": {
        "colab": {
          "base_uri": "https://localhost:8080/"
        },
        "execution": {
          "iopub.execute_input": "2020-08-17T09:55:43.774672Z",
          "iopub.status.busy": "2020-08-17T09:55:43.773773Z",
          "iopub.status.idle": "2020-08-17T09:55:43.777927Z",
          "shell.execute_reply": "2020-08-17T09:55:43.777403Z"
        },
        "id": "eerZtGkIVZOH",
        "outputId": "b33633d7-d3bf-4e3a-9736-88cb5d277bde",
        "papermill": {
          "duration": 0.021476,
          "end_time": "2020-08-17T09:55:43.778025",
          "exception": false,
          "start_time": "2020-08-17T09:55:43.756549",
          "status": "completed"
        },
        "tags": []
      },
      "outputs": [
        {
          "output_type": "execute_result",
          "data": {
            "text/plain": [
              "device(type='cuda')"
            ]
          },
          "metadata": {},
          "execution_count": 8
        }
      ],
      "source": [
        "device"
      ]
    },
    {
      "cell_type": "markdown",
      "metadata": {
        "id": "ucDnjznxVZOI",
        "papermill": {
          "duration": 0.012711,
          "end_time": "2020-08-17T09:55:43.803739",
          "exception": false,
          "start_time": "2020-08-17T09:55:43.791028",
          "status": "completed"
        },
        "tags": []
      },
      "source": [
        "## 1. Discriminator Network\n",
        "\n",
        "The discriminator takes an image as input, and tries to classify it as \"real\" or \"generated\". In this sense, it's like any other neural network. While we can use a CNN for the discriminator, we'll use a simple feedforward network with 3 linear layers to keep things since. We'll treat each 28x28 image as a vector of size 784."
      ]
    },
    {
      "cell_type": "code",
      "execution_count": null,
      "metadata": {
        "execution": {
          "iopub.execute_input": "2020-08-17T09:55:43.835108Z",
          "iopub.status.busy": "2020-08-17T09:55:43.834087Z",
          "iopub.status.idle": "2020-08-17T09:55:43.837279Z",
          "shell.execute_reply": "2020-08-17T09:55:43.836767Z"
        },
        "id": "jvY1GM2YVZOI",
        "papermill": {
          "duration": 0.020292,
          "end_time": "2020-08-17T09:55:43.837398",
          "exception": false,
          "start_time": "2020-08-17T09:55:43.817106",
          "status": "completed"
        },
        "tags": []
      },
      "outputs": [],
      "source": [
        "image_size = 784\n",
        "hidden_size = 256"
      ]
    },
    {
      "cell_type": "code",
      "execution_count": null,
      "metadata": {
        "execution": {
          "iopub.execute_input": "2020-08-17T09:55:43.870357Z",
          "iopub.status.busy": "2020-08-17T09:55:43.869636Z",
          "iopub.status.idle": "2020-08-17T09:55:43.876096Z",
          "shell.execute_reply": "2020-08-17T09:55:43.875605Z"
        },
        "id": "3JsKEAb9VZOI",
        "papermill": {
          "duration": 0.025096,
          "end_time": "2020-08-17T09:55:43.876208",
          "exception": false,
          "start_time": "2020-08-17T09:55:43.851112",
          "status": "completed"
        },
        "tags": []
      },
      "outputs": [],
      "source": [
        "import torch.nn as nn\n",
        "\n",
        "D = nn.Sequential(\n",
        "    nn.Linear(image_size, hidden_size),   # 784 → 256\n",
        "    nn.LeakyReLU(0.2, inplace=True),\n",
        "\n",
        "    nn.Linear(hidden_size, hidden_size),  # 256 → 256\n",
        "    nn.LeakyReLU(0.2, inplace=True),\n",
        "\n",
        "    nn.Linear(hidden_size, 1),            # 256 → 1 (Real vs Fake)\n",
        "    nn.Sigmoid()                          # Ausgabe ∈ (0, 1)\n",
        ")\n"
      ]
    },
    {
      "cell_type": "code",
      "execution_count": null,
      "metadata": {
        "execution": {
          "iopub.execute_input": "2020-08-17T09:55:43.938968Z",
          "iopub.status.busy": "2020-08-17T09:55:43.938202Z",
          "iopub.status.idle": "2020-08-17T09:55:50.942528Z",
          "shell.execute_reply": "2020-08-17T09:55:50.943042Z"
        },
        "id": "K1fmWLNnVZOJ",
        "papermill": {
          "duration": 7.026268,
          "end_time": "2020-08-17T09:55:50.943194",
          "exception": false,
          "start_time": "2020-08-17T09:55:43.916926",
          "status": "completed"
        },
        "tags": []
      },
      "outputs": [],
      "source": [
        "D.to(device);"
      ]
    },
    {
      "cell_type": "markdown",
      "metadata": {
        "id": "GaXQ0sDKVZOJ",
        "papermill": {
          "duration": 0.013316,
          "end_time": "2020-08-17T09:55:50.970787",
          "exception": false,
          "start_time": "2020-08-17T09:55:50.957471",
          "status": "completed"
        },
        "tags": []
      },
      "source": [
        "## 2. Build Generator Network\n",
        "\n",
        "The input to the generator is typically a vector or a matrix which is used as a seed for generating an image. Once again, to keep things simple, we'll use a feedfoward neural network with 3 layers, and the output will be a vector of size 784, which can be transformed to a 28x28 px image."
      ]
    },
    {
      "cell_type": "markdown",
      "metadata": {
        "id": "y9cY38gMVZOK",
        "papermill": {
          "duration": 0.013729,
          "end_time": "2020-08-17T09:55:51.070415",
          "exception": false,
          "start_time": "2020-08-17T09:55:51.056686",
          "status": "completed"
        },
        "tags": []
      },
      "source": [
        "We use the TanH activation function for the output layer of the generator.\n",
        "\n",
        "<img src=\"https://nic.schraudolph.org/teach/NNcourse/figs/tanh.gif\" width=\"420\" >\n",
        "\n",
        "> \"The ReLU activation (Nair & Hinton, 2010) is used in the generator with the exception of the output layer which uses the Tanh function. We observed that using a bounded activation allowed the model to learn more quickly to saturate and cover the color space of the training distribution. Within the discriminator we found the leaky rectified activation (Maas et al., 2013) (Xu et al., 2015) to work well, especially for higher resolution modeling.\" - [Source](https://stackoverflow.com/questions/41489907/generative-adversarial-networks-tanh)\n",
        "\n",
        "\n",
        "Note that since the outputs of the TanH activation lie in the range `[-1,1]`, we have applied the same transformation to the images in the training dataset. Let's generate an output vector using the generator and view it as an image by transforming and denormalizing the output."
      ]
    },
    {
      "cell_type": "code",
      "execution_count": null,
      "metadata": {
        "execution": {
          "iopub.execute_input": "2020-08-17T09:55:51.001873Z",
          "iopub.status.busy": "2020-08-17T09:55:51.001092Z",
          "iopub.status.idle": "2020-08-17T09:55:51.003649Z",
          "shell.execute_reply": "2020-08-17T09:55:51.004145Z"
        },
        "id": "yKyIpUuuVZOJ",
        "papermill": {
          "duration": 0.01996,
          "end_time": "2020-08-17T09:55:51.004261",
          "exception": false,
          "start_time": "2020-08-17T09:55:50.984301",
          "status": "completed"
        },
        "tags": []
      },
      "outputs": [],
      "source": [
        "latent_size = 64"
      ]
    },
    {
      "cell_type": "code",
      "execution_count": null,
      "metadata": {
        "execution": {
          "iopub.execute_input": "2020-08-17T09:55:51.037163Z",
          "iopub.status.busy": "2020-08-17T09:55:51.036261Z",
          "iopub.status.idle": "2020-08-17T09:55:51.042579Z",
          "shell.execute_reply": "2020-08-17T09:55:51.042077Z"
        },
        "id": "KMPJ-D8wVZOK",
        "papermill": {
          "duration": 0.024698,
          "end_time": "2020-08-17T09:55:51.042678",
          "exception": false,
          "start_time": "2020-08-17T09:55:51.017980",
          "status": "completed"
        },
        "tags": []
      },
      "outputs": [],
      "source": [
        "import torch.nn as nn\n",
        "\n",
        "G = nn.Sequential(\n",
        "    nn.Linear(latent_size, hidden_size),   # 64 → 256\n",
        "    nn.ReLU(inplace=True),\n",
        "\n",
        "    nn.Linear(hidden_size, hidden_size),   # 256 → 256\n",
        "    nn.ReLU(inplace=True),\n",
        "\n",
        "    nn.Linear(hidden_size, image_size),    # 256 → 784\n",
        "    nn.Tanh()                              # Ausgabe ∈ [-1, 1]\n",
        ").to(device)\n"
      ]
    },
    {
      "cell_type": "markdown",
      "metadata": {
        "id": "EEnpJkMfVZON",
        "papermill": {
          "duration": 0.014736,
          "end_time": "2020-08-17T09:55:51.840863",
          "exception": false,
          "start_time": "2020-08-17T09:55:51.826127",
          "status": "completed"
        },
        "tags": []
      },
      "source": [
        "## 3. Train the Model\n",
        "\n",
        "* train the model\n",
        "* save samples of generated images after each epoch -> use the ``denorm()`` function"
      ]
    },
    {
      "cell_type": "code",
      "execution_count": null,
      "metadata": {
        "id": "c_qDyuGul5uu"
      },
      "outputs": [],
      "source": [
        "import os\n",
        "import torch\n",
        "import torch.nn as nn\n",
        "import torchvision.utils as vutils\n",
        "from datetime import datetime\n",
        "\n",
        "# -------------------- Hyper-Parameter --------------------\n",
        "num_epochs      = 50\n",
        "lr              = 2e-4           # Adam-Default aus Goodfellow-Paper\n",
        "beta1, beta2    = 0.5, 0.999     # stabilere Momente (Radford et al. 2016)\n",
        "sample_dir      = 'samples'\n",
        "\n",
        "os.makedirs(sample_dir, exist_ok=True)\n",
        "\n",
        "criterion = nn.BCELoss()\n",
        "opt_D     = torch.optim.Adam(D.parameters(), lr=lr, betas=(beta1, beta2))\n",
        "opt_G     = torch.optim.Adam(G.parameters(), lr=lr, betas=(beta1, beta2))\n",
        "\n",
        "# Für konstante Visualisierung\n",
        "fixed_noise = torch.randn(64, latent_size, device=device)\n",
        "\n",
        "# -------------------- Monitoring-Arrays --------------------\n",
        "loss_D_hist, loss_G_hist = [], []              #  << neu\n",
        "\n",
        "# -------------------- Training-Loop --------------------\n",
        "for epoch in range(1, num_epochs + 1):\n",
        "    for real, _ in data_loader:\n",
        "        batch = real.size(0)\n",
        "        real   = real.view(batch, -1).to(device)\n",
        "\n",
        "        # ----- 1. Discriminator -----\n",
        "        real_lbl = torch.ones(batch, 1, device=device)\n",
        "        fake_lbl = torch.zeros(batch, 1, device=device)\n",
        "\n",
        "        out_real = D(real)\n",
        "        loss_D_real = criterion(out_real, real_lbl)\n",
        "\n",
        "        z    = torch.randn(batch, latent_size, device=device)\n",
        "        fake = G(z).detach()\n",
        "        out_fake = D(fake)\n",
        "        loss_D_fake = criterion(out_fake, fake_lbl)\n",
        "\n",
        "        loss_D = loss_D_real + loss_D_fake\n",
        "        opt_D.zero_grad()\n",
        "        loss_D.backward()\n",
        "        opt_D.step()\n",
        "\n",
        "        # ----- 2. Generator -----\n",
        "        z    = torch.randn(batch, latent_size, device=device)\n",
        "        fake = G(z)\n",
        "        gen_lbl = torch.ones(batch, 1, device=device)   # Generator will \"real\"\n",
        "        out = D(fake)\n",
        "        loss_G = criterion(out, gen_lbl)\n",
        "\n",
        "        opt_G.zero_grad()\n",
        "        loss_G.backward()\n",
        "        opt_G.step()\n",
        "\n",
        "    # ---------- Logging & Samples ----------\n",
        "    loss_D_hist.append(loss_D.item())          #  << neu\n",
        "    loss_G_hist.append(loss_G.item())          #  << neu\n",
        "    # -------------------- Logging & Samples --------------------\n",
        "    print(f\"[{datetime.now().strftime('%H:%M:%S')}] \"\n",
        "          f\"Epoch [{epoch:03}/{num_epochs}] \"\n",
        "          f\"L_D: {loss_D.item():.4f}  L_G: {loss_G.item():.4f}\")\n",
        "\n",
        "    with torch.no_grad():\n",
        "        fake = G(fixed_noise).view(-1, 1, 28, 28)\n",
        "        fake = denorm(fake)               # zurück nach [0,1]\n",
        "        vutils.save_image(fake,\n",
        "                          os.path.join(sample_dir, f\"epoch_{epoch:03}.png\"),\n",
        "                          nrow=8, padding=2)\n",
        "        # → 8 × 8-Grid der jeweils gleichen latenten Punkte\n",
        "\n",
        "# -------------------- Loss-Plot --------------------\n",
        "plt.figure(figsize=(6,4))\n",
        "plt.plot(loss_D_hist, label='Discriminator')\n",
        "plt.plot(loss_G_hist, label='Generator')\n",
        "plt.xlabel('Epoch')\n",
        "plt.ylabel('Loss')\n",
        "plt.title('GAN Training Loss on MNIST')\n",
        "plt.legend()\n",
        "plt.tight_layout()\n",
        "plt.show()\n"
      ]
    }
  ],
  "metadata": {
    "accelerator": "GPU",
    "colab": {
      "name": "assignment_mnistGAN_solution.ipynb",
      "provenance": []
    },
    "kernelspec": {
      "display_name": "Python 3",
      "language": "python",
      "name": "python3"
    },
    "language_info": {
      "codemirror_mode": {
        "name": "ipython",
        "version": 3
      },
      "file_extension": ".py",
      "mimetype": "text/x-python",
      "name": "python",
      "nbconvert_exporter": "python",
      "pygments_lexer": "ipython3",
      "version": "3.7.6"
    },
    "papermill": {
      "duration": 3906.147471,
      "end_time": "2020-08-17T11:00:34.587734",
      "environment_variables": {},
      "exception": null,
      "input_path": "__notebook__.ipynb",
      "output_path": "__notebook__.ipynb",
      "parameters": {},
      "start_time": "2020-08-17T09:55:28.440263",
      "version": "2.1.0"
    }
  },
  "nbformat": 4,
  "nbformat_minor": 0
}